{
 "cells": [
  {
   "cell_type": "code",
   "execution_count": 4,
   "metadata": {},
   "outputs": [],
   "source": [
    "import pandas as pd\n",
    "import sqlite3\n",
    "\n",
    "# Function to load data into SQLite3 database\n",
    "def load_data_into_database(csv_file, table_name, database_name='Resources/mydatabase2.sqlite'):\n",
    "    # Load CSV into a DataFrame\n",
    "    df = pd.read_csv(csv_file)\n",
    "    \n",
    "    # Connect to SQLite3 database\n",
    "    conn = sqlite3.connect(database_name)\n",
    "    \n",
    "    # Write the DataFrame to a sqlite3 table\n",
    "    df.to_sql(table_name, conn, index=False, if_exists='replace', dtype={'recipe_id': 'INTEGER PRIMARY KEY'})\n",
    "    \n",
    "    # Close the database connection\n",
    "    conn.close()"
   ]
  },
  {
   "cell_type": "code",
   "execution_count": 7,
   "metadata": {},
   "outputs": [
    {
     "name": "stdout",
     "output_type": "stream",
     "text": [
      "NaN values in co2_data:\n",
      "recipe_id                0\n",
      "total_co2                0\n",
      "emission_class           0\n",
      "diet_labels              0\n",
      "total_weight             0\n",
      "number_of_ingredients    0\n",
      "dtype: int64\n",
      "\n",
      "Zero values in co2_data:\n",
      "recipe_id                1\n",
      "total_co2                0\n",
      "emission_class           0\n",
      "diet_labels              0\n",
      "total_weight             0\n",
      "number_of_ingredients    0\n",
      "dtype: int64\n",
      "NaN values in chicken_recipe_data:\n",
      "recipe_id               0\n",
      "recipe_name             0\n",
      "cuisine_type            0\n",
      "source                  0\n",
      "total_time              0\n",
      "total_calories          0\n",
      "calories_per_serving    0\n",
      "dtype: int64\n",
      "\n",
      "Zero values in chicken_recipe_data:\n",
      "recipe_id                1\n",
      "recipe_name              0\n",
      "cuisine_type             0\n",
      "source                   0\n",
      "total_time              73\n",
      "total_calories           0\n",
      "calories_per_serving     0\n",
      "dtype: int64\n"
     ]
    }
   ],
   "source": [
    "# Load data into SQLite3 for co2.csv\n",
    "load_data_into_database('Resources/co2.csv', 'co2_data')\n",
    "\n",
    "# Load data into SQLite3 for chicken_recipe.csv\n",
    "load_data_into_database('Resources/chicken_recipe.csv', 'chicken_recipe_data')\n",
    "\n",
    "# Check for NaN or zero values\n",
    "def check_for_nan_zero(table_name, database_name='Resources/mydatabase2.sqlite'):\n",
    "    # Connect to SQLite3 database\n",
    "    conn = sqlite3.connect(database_name)\n",
    "    \n",
    "    # Read data from the database\n",
    "    query = f\"SELECT * FROM {table_name}\"\n",
    "    df = pd.read_sql_query(query, conn)\n",
    "    \n",
    "    # Check for NaN values\n",
    "    nan_values = df.isna().sum()\n",
    "    \n",
    "    # Check for zero values\n",
    "    zero_values = (df == 0).sum()\n",
    "    \n",
    "    # Display the results\n",
    "    print(f\"NaN values in {table_name}:\")\n",
    "    print(nan_values)\n",
    "    \n",
    "    print(f\"\\nZero values in {table_name}:\")\n",
    "    print(zero_values)\n",
    "    \n",
    "    # Close the database connection\n",
    "    conn.close()\n",
    "\n",
    "\n",
    "# Check for NaN or zero values in co2_data\n",
    "check_for_nan_zero('co2_data')\n",
    "\n",
    "# Check for NaN or zero values in chicken_recipe_data\n",
    "check_for_nan_zero('chicken_recipe_data')\n"
   ]
  },
  {
   "cell_type": "code",
   "execution_count": 10,
   "metadata": {},
   "outputs": [
    {
     "data": {
      "text/plain": [
       "[('co2_data',), ('chicken_recipe_data',)]"
      ]
     },
     "execution_count": 10,
     "metadata": {},
     "output_type": "execute_result"
    }
   ],
   "source": [
    "conn = sqlite3.connect('Resources/mydatabase2.sqlite')\n",
    "cursor = conn.cursor()\n",
    "res = cursor.execute(\"SELECT name FROM sqlite_master\")\n",
    "res.fetchall()"
   ]
  },
  {
   "cell_type": "code",
   "execution_count": null,
   "metadata": {},
   "outputs": [],
   "source": []
  }
 ],
 "metadata": {
  "kernelspec": {
   "display_name": "Python 3 (ipykernel)",
   "language": "python",
   "name": "python3"
  },
  "language_info": {
   "codemirror_mode": {
    "name": "ipython",
    "version": 3
   },
   "file_extension": ".py",
   "mimetype": "text/x-python",
   "name": "python",
   "nbconvert_exporter": "python",
   "pygments_lexer": "ipython3",
   "version": "3.10.13"
  }
 },
 "nbformat": 4,
 "nbformat_minor": 2
}
