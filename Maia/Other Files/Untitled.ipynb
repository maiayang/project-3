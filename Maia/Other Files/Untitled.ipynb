{
 "cells": [
  {
   "cell_type": "code",
   "execution_count": 5,
   "id": "428ceea7",
   "metadata": {},
   "outputs": [],
   "source": [
    "# # Import the Tkinter library for GUI development\n",
    "# import tkinter as tk\n",
    "\n",
    "\n",
    "\n",
    "# # Create the main application window\n",
    "# root = tk.Tk()\n",
    "# root.title(\"Cuisine Type\")\n",
    "# root.geometry(\"400x300\")\n",
    "\n",
    "# # Add a label\n",
    "# label = tk.Label(root, text=\"Select an option from the dropdown menu:\")\n",
    "# label.pack(pady=10)  # Add padding to separate the label from other elements\n",
    "\n",
    "# # Create a StringVar to hold the selected option\n",
    "# selected_option = tk.StringVar()\n",
    "\n",
    "# # Create the dropdown menu\n",
    "# dropdown = tk.OptionMenu(root, selected_option, \"asian\", \"south east asian\", \"chinese\", \"japanese\")\n",
    "# dropdown.pack()\n",
    "\n",
    "# # Run the main event loop\n",
    "# root.mainloop()"
   ]
  },
  {
   "cell_type": "code",
   "execution_count": 21,
   "id": "f6fdeb56",
   "metadata": {},
   "outputs": [
    {
     "name": "stdout",
     "output_type": "stream",
     "text": [
      "south east asian\n"
     ]
    }
   ],
   "source": [
    "import tkinter as tk\n",
    "# def on_option_select(event):\n",
    "#     selected_option.set(event)\n",
    "    \n",
    "root = tk.Tk()\n",
    "root.title(\"Dropdown Menu Example\")\n",
    "root.geometry(\"400x300\")\n",
    "\n",
    "# Add a label\n",
    "label = tk.Label(root, text=\"Select an option from the dropdown menu:\")\n",
    "label.pack(pady=10)  # Add padding to separate the label from other elements\n",
    "\n",
    "# Create a StringVar to hold the selected option\n",
    "selected_option = tk.StringVar()\n",
    "\n",
    "\n",
    "# Create the dropdown \n",
    "options = [\"asian\", \"south east asian\", \"chinese\", \"japanese\"]\n",
    "dropdown = tk.OptionMenu(root, selected_option, *options)\n",
    "dropdown.pack(pady=10)\n",
    "\n",
    "# # Add a button to display the selected option\n",
    "# show_button = tk.Button(root, text=\"Show Selection\", command=lambda: on_option_select(selected_option.get()))\n",
    "# show_button.pack()\n",
    "\n",
    "# Label to display the selected option\n",
    "result_label = tk.Label(root, text=\"\")\n",
    "result_label.pack()\n",
    "root.mainloop()\n",
    "\n",
    "selected = selected_option.get()\n",
    "print(selected)"
   ]
  },
  {
   "cell_type": "code",
   "execution_count": null,
   "id": "bf85edbd",
   "metadata": {},
   "outputs": [],
   "source": []
  }
 ],
 "metadata": {
  "kernelspec": {
   "display_name": "Python 3 (ipykernel)",
   "language": "python",
   "name": "python3"
  },
  "language_info": {
   "codemirror_mode": {
    "name": "ipython",
    "version": 3
   },
   "file_extension": ".py",
   "mimetype": "text/x-python",
   "name": "python",
   "nbconvert_exporter": "python",
   "pygments_lexer": "ipython3",
   "version": "3.10.13"
  }
 },
 "nbformat": 4,
 "nbformat_minor": 5
}
